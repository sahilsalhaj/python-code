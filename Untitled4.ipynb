{
 "cells": [
  {
   "cell_type": "code",
   "execution_count": 1,
   "id": "95844966",
   "metadata": {},
   "outputs": [
    {
     "name": "stdout",
     "output_type": "stream",
     "text": [
      "Following matrix transitive closure of the given graph\n",
      "      1\t       1\t       1\t       1\t \n",
      "      0\t       1\t       1\t       1\t \n",
      "      0\t       0\t       1\t       1\t \n",
      "      0\t       0\t       0\t       1\t \n"
     ]
    }
   ],
   "source": [
    "from collections import defaultdict\n",
    "class Graph:\n",
    "    def __init__(self, vertices):\n",
    "        self.V = vertices\n",
    "\n",
    "    def printSolution(self, reach):\n",
    "        print(\"Following matrix transitive closure of the given graph\")\n",
    "        for i in range(self.V):\n",
    "            for j in range(self.V):\n",
    "                if i == j:\n",
    "                    print('%7d\\t' % (1), end=' ')\n",
    "                else:\n",
    "                    print('%7d\\t' % (reach[i][j]), end=' ')\n",
    "            print(\"\")\n",
    "\n",
    "    def transitiveClosure(self, graph):\n",
    "        reach = [i[:] for i in graph]\n",
    "        for k in range(self.V):\n",
    "            for i in range(self.V):\n",
    "                for j in range(self.V):\n",
    "                    reach[i][j] = reach[i][j] or (reach[i][k] and reach[k][j])\n",
    "        self.printSolution(reach)\n",
    "\n",
    "g = Graph(4)\n",
    "graph = [\n",
    "    [1, 1, 0, 1],\n",
    "    [0, 1, 1, 0],\n",
    "    [0, 0, 1, 1],\n",
    "    [0, 0, 0, 1]\n",
    "]\n",
    "\n",
    "g.transitiveClosure(graph)"
   ]
  },
  {
   "cell_type": "code",
   "execution_count": null,
   "id": "e202ac59",
   "metadata": {},
   "outputs": [],
   "source": []
  }
 ],
 "metadata": {
  "kernelspec": {
   "display_name": "Python 3 (ipykernel)",
   "language": "python",
   "name": "python3"
  },
  "language_info": {
   "codemirror_mode": {
    "name": "ipython",
    "version": 3
   },
   "file_extension": ".py",
   "mimetype": "text/x-python",
   "name": "python",
   "nbconvert_exporter": "python",
   "pygments_lexer": "ipython3",
   "version": "3.11.7"
  }
 },
 "nbformat": 4,
 "nbformat_minor": 5
}
