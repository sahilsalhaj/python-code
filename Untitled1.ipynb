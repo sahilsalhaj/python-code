{
 "cells": [
  {
   "cell_type": "code",
   "execution_count": 3,
   "id": "5ce706f2",
   "metadata": {},
   "outputs": [
    {
     "name": "stdout",
     "output_type": "stream",
     "text": [
      "Enter first number: 45\n",
      "Enter second number: 36\n",
      "The GCD of 45 and 36 is 9\n"
     ]
    }
   ],
   "source": [
    "def gcd_differential(a,b):\n",
    "    if a==0 and b==0:\n",
    "        return None\n",
    "    if a==0 or b==0:\n",
    "        return max(a,b)\n",
    "    while a!=b:\n",
    "        if a>b:\n",
    "            a=a-b\n",
    "        else:\n",
    "            b=b-a\n",
    "    return a\n",
    "num1=int(input(\"Enter first number: \"))\n",
    "num2=int(input(\"Enter second number: \"))\n",
    "result=gcd_differential(num1,num2)\n",
    "if result is None:\n",
    "    print(\"The GCD of\",num1,\"and\",num2,\"is undefined\")\n",
    "else:\n",
    "    print(\"The GCD of\",num1,\"and\",num2,\"is\",result)"
   ]
  }
 ],
 "metadata": {
  "kernelspec": {
   "display_name": "Python 3 (ipykernel)",
   "language": "python",
   "name": "python3"
  },
  "language_info": {
   "codemirror_mode": {
    "name": "ipython",
    "version": 3
   },
   "file_extension": ".py",
   "mimetype": "text/x-python",
   "name": "python",
   "nbconvert_exporter": "python",
   "pygments_lexer": "ipython3",
   "version": "3.11.7"
  }
 },
 "nbformat": 4,
 "nbformat_minor": 5
}
