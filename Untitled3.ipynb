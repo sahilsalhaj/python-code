{
 "cells": [
  {
   "cell_type": "code",
   "execution_count": null,
   "id": "89b7c166",
   "metadata": {},
   "outputs": [],
   "source": [
    "import cv2\n",
    "\n",
    "image = cv2.imread(\"C:\\\\Users\\\\sahil\\\\Downloads\\\\4k-bmw-4-series-x44p1lte1sjdpod1.jpg\")\n",
    "\n",
    "# Check if the image was successfully loaded\n",
    "if image is None:\n",
    "    print(\"Error: Could not read the image.\")\n",
    "else:\n",
    "    # Display the original image in a window\n",
    "    cv2.imshow('Original Image', image)\n",
    "\n",
    "    # Wait for a key press and close the image window\n",
    "    cv2.waitKey(0)\n",
    "    cv2.destroyAllWindows()\n",
    "\n",
    "    # Convert the image to grayscale\n",
    "    gray_image = cv2.cvtColor(image, cv2.COLOR_BGR2GRAY)\n",
    "\n",
    "    # Display the grayscale image in a window\n",
    "    cv2.imshow('Grayscale Image', gray_image)\n",
    "\n",
    "    # Wait for a key press and close the image window\n",
    "    cv2.waitKey(0)\n",
    "    cv2.destroyAllWindows()\n",
    "\n",
    "    print(\"OpenCV is working correctly.\")"
   ]
  },
  {
   "cell_type": "code",
   "execution_count": null,
   "id": "2114be11",
   "metadata": {},
   "outputs": [],
   "source": []
  }
 ],
 "metadata": {
  "kernelspec": {
   "display_name": "Python 3 (ipykernel)",
   "language": "python",
   "name": "python3"
  },
  "language_info": {
   "codemirror_mode": {
    "name": "ipython",
    "version": 3
   },
   "file_extension": ".py",
   "mimetype": "text/x-python",
   "name": "python",
   "nbconvert_exporter": "python",
   "pygments_lexer": "ipython3",
   "version": "3.11.7"
  }
 },
 "nbformat": 4,
 "nbformat_minor": 5
}
